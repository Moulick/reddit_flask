{
 "cells": [
  {
   "cell_type": "code",
   "execution_count": 14,
   "metadata": {
    "collapsed": false,
    "deletable": true,
    "editable": true
   },
   "outputs": [],
   "source": [
    "import usernamevalidator\n",
    "import comment_processing\n",
    "import praw\n",
    "import prawcore\n",
    "from datetime import datetime, timedelta\n",
    "from database_things import addtodb, updatedb, record_finder, fetcher\n",
    "import pymongo\n",
    "import re\n",
    "import pprint"
   ]
  },
  {
   "cell_type": "code",
   "execution_count": 7,
   "metadata": {
    "collapsed": false,
    "deletable": true,
    "editable": true
   },
   "outputs": [],
   "source": [
    "client = pymongo.MongoClient()\n",
    "db = client.reddit\n",
    "\n",
    "collection = db['word_analysis']\n",
    "emoticons_str = r\"\"\"\n",
    "    (?:\n",
    "        [:=;] # Eyes\n",
    "        [oO\\-]? # Nose (optional)\n",
    "        [D\\)\\]\\(\\]/\\\\OpP] # Mouth\n",
    "    )\"\"\"\n",
    "emoticon_re = re.compile(r'^' + emoticons_str + '$', re.VERBOSE | re.IGNORECASE)"
   ]
  },
  {
   "cell_type": "code",
   "execution_count": 8,
   "metadata": {
    "collapsed": true,
    "deletable": true,
    "editable": true
   },
   "outputs": [],
   "source": [
    "def preprocess(s, lowercase=False):\n",
    "    tokenizer = TweetTokenizer()\n",
    "    tokens = tokenizer.tokenize(s)\n",
    "    if lowercase:\n",
    "        tokens = [token if emoticon_re.search(token) else token.lower() for token in tokens]\n",
    "    return tokens"
   ]
  },
  {
   "cell_type": "code",
   "execution_count": 9,
   "metadata": {
    "collapsed": false,
    "deletable": true,
    "editable": true
   },
   "outputs": [
    {
     "name": "stdout",
     "output_type": "stream",
     "text": [
      "Read only: False\n",
      "Ok\n"
     ]
    }
   ],
   "source": [
    "reddit = praw.Reddit(client_id='JLn24zAHmQ3iPg',\n",
    "                     client_secret='KnsAYz4tTBdSpX7LMB1KbjG998M',\n",
    "                     user_agent='windows:com.top_word_finder.XD:v0.2 by /u/waitingforcracks',\n",
    "                     username='waitingforcracks',\n",
    "                     password='1011sailboat')\n",
    "\n",
    "print('Read only:', reddit.read_only)  # Check if read_only\n",
    "print('Ok')"
   ]
  },
  {
   "cell_type": "code",
   "execution_count": 12,
   "metadata": {
    "collapsed": false,
    "deletable": true,
    "editable": true
   },
   "outputs": [
    {
     "name": "stdout",
     "output_type": "stream",
     "text": [
      "Not Found\n"
     ]
    }
   ],
   "source": [
    "try:\n",
    "    print(reddit.redditor('spesdsdz').id)\n",
    "    print('exists')\n",
    "except prawcore.exceptions.NotFound:\n",
    "    print('Not Found')"
   ]
  },
  {
   "cell_type": "code",
   "execution_count": 6,
   "metadata": {
    "collapsed": false,
    "deletable": true,
    "editable": true
   },
   "outputs": [],
   "source": [
    "def username_validator(username, db=db):\n",
    "    \n",
    "    usernames_collection = db['valid_usernames']\n",
    "    print(usernames_collection)\n",
    "    \n",
    "    valid = usernames_collection.find_one({'username': username})\n",
    "    pprint(valid)\n",
    "    \n",
    "    if valid is None:\n",
    "        print('Not Found')\n",
    "    else:\n",
    "        print('ok')"
   ]
  },
  {
   "cell_type": "code",
   "execution_count": 17,
   "metadata": {
    "collapsed": false,
    "deletable": true,
    "editable": true,
    "scrolled": true
   },
   "outputs": [
    {
     "name": "stdout",
     "output_type": "stream",
     "text": [
      "{'_id': ObjectId('58d7d6f1146bde2ed0b28c9e'),\n",
      " 'comment_count_controversial': 996,\n",
      " 'comment_count_hot': 996,\n",
      " 'comment_count_new': 996,\n",
      " 'comment_count_top': 996,\n",
      " 'last_updated': datetime.datetime(2017, 3, 26, 14, 50, 8, 849000),\n",
      " 'common_word_controversial': 'like',\n",
      " 'common_word_count_conterversial': 122,\n",
      " 'common_word_count_hot': 122,\n",
      " 'common_word_count_new': 122,\n",
      " 'common_word_count_top': 122,\n",
      " 'common_word_hot': 'like',\n",
      " 'common_word_new': 'like',\n",
      " 'common_word_top': 'like',\n",
      " 'redditor': 'spez'}\n"
     ]
    }
   ],
   "source": [
    "# database\n",
    "\n",
    "client = pymongo.MongoClient()\n",
    "db = client['reddit']\n",
    "collection = db['word_analysis']"
   ]
  },
  {
   "cell_type": "code",
   "execution_count": 22,
   "metadata": {
    "collapsed": false
   },
   "outputs": [
    {
     "name": "stdout",
     "output_type": "stream",
     "text": [
      "None\n"
     ]
    }
   ],
   "source": [
    "record = collection.find_one({'redditor': 'dsdsd'})\n",
    "\n",
    "pprint.pprint(record)"
   ]
  },
  {
   "cell_type": "code",
   "execution_count": 23,
   "metadata": {
    "collapsed": false,
    "deletable": true,
    "editable": true
   },
   "outputs": [
    {
     "ename": "TypeError",
     "evalue": "'NoneType' object is not subscriptable",
     "traceback": [
      "\u001b[1;31m---------------------------------------------------------------------------\u001b[0m",
      "\u001b[1;31mTypeError\u001b[0m                                 Traceback (most recent call last)",
      "\u001b[1;32m<ipython-input-23-b8d25c671003>\u001b[0m in \u001b[0;36m<module>\u001b[1;34m()\u001b[0m\n\u001b[1;32m----> 1\u001b[1;33m \u001b[0mprint\u001b[0m\u001b[1;33m(\u001b[0m\u001b[0mdatetime\u001b[0m\u001b[1;33m.\u001b[0m\u001b[0mutcnow\u001b[0m\u001b[1;33m(\u001b[0m\u001b[1;33m)\u001b[0m \u001b[1;33m-\u001b[0m \u001b[0mrecord\u001b[0m\u001b[1;33m[\u001b[0m\u001b[1;34m'last_updated'\u001b[0m\u001b[1;33m]\u001b[0m\u001b[1;33m)\u001b[0m\u001b[1;33m\u001b[0m\u001b[0m\n\u001b[0m",
      "\u001b[1;31mTypeError\u001b[0m: 'NoneType' object is not subscriptable"
     ],
     "output_type": "error"
    }
   ],
   "source": [
    "print(datetime.utcnow() - record['last_updated'])"
   ]
  },
  {
   "cell_type": "code",
   "execution_count": null,
   "metadata": {
    "collapsed": true
   },
   "outputs": [],
   "source": [
    ""
   ]
  }
 ],
 "metadata": {
  "kernelspec": {
   "display_name": "Python 3",
   "language": "python",
   "name": "python3"
  },
  "language_info": {
   "codemirror_mode": {
    "name": "ipython",
    "version": 3.0
   },
   "file_extension": ".py",
   "mimetype": "text/x-python",
   "name": "python",
   "nbconvert_exporter": "python",
   "pygments_lexer": "ipython3",
   "version": "3.6.0"
  }
 },
 "nbformat": 4,
 "nbformat_minor": 0
}