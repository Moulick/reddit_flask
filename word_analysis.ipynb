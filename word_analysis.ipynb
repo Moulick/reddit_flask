{
 "cells": [
  {
   "cell_type": "code",
   "execution_count": 1,
   "metadata": {
    "collapsed": true,
    "deletable": true,
    "editable": true
   },
   "outputs": [],
   "source": [
    "from nltk.tokenize import TweetTokenizer\n",
    "from nltk.corpus import stopwords\n",
    "from datetime import datetime, timedelta\n",
    "from usernamevalidator import username_validator\n",
    "import re\n",
    "import praw\n",
    "import prawcore\n",
    "import string\n",
    "import pymongo\n",
    "from pprint import pprint"
   ]
  },
  {
   "cell_type": "code",
   "execution_count": 2,
   "metadata": {
    "collapsed": false,
    "deletable": true,
    "editable": true
   },
   "outputs": [],
   "source": [
    "client = pymongo.MongoClient()\n",
    "db = client.reddit\n",
    "\n",
    "collection = db['word_analysis']\n",
    "emoticons_str = r\"\"\"\n",
    "    (?:\n",
    "        [:=;] # Eyes\n",
    "        [oO\\-]? # Nose (optional)\n",
    "        [D\\)\\]\\(\\]/\\\\OpP] # Mouth\n",
    "    )\"\"\"\n",
    "emoticon_re = re.compile(r'^' + emoticons_str + '$', re.VERBOSE | re.IGNORECASE)"
   ]
  },
  {
   "cell_type": "code",
   "execution_count": 3,
   "metadata": {
    "collapsed": true,
    "deletable": true,
    "editable": true
   },
   "outputs": [],
   "source": [
    "def preprocess(s, lowercase=False):\n",
    "    tokenizer = TweetTokenizer()\n",
    "    tokens = tokenizer.tokenize(s)\n",
    "    if lowercase:\n",
    "        tokens = [token if emoticon_re.search(token) else token.lower() for token in tokens]\n",
    "    return tokens"
   ]
  },
  {
   "cell_type": "code",
   "execution_count": 4,
   "metadata": {
    "collapsed": false,
    "deletable": true,
    "editable": true
   },
   "outputs": [
    {
     "name": "stdout",
     "output_type": "stream",
     "text": [
      "Read only: False\n",
      "Ok\n"
     ]
    }
   ],
   "source": [
    "reddit = praw.Reddit(client_id='JLn24zAHmQ3iPg',\n",
    "                     client_secret='KnsAYz4tTBdSpX7LMB1KbjG998M',\n",
    "                     user_agent='windows:com.top_word_finder.XD:v0.2 by /u/waitingforcracks',\n",
    "                     username='waitingforcracks',\n",
    "                     password='1011sailboat')\n",
    "\n",
    "print('Read only:', reddit.read_only)  # Check if read_only\n",
    "print('Ok')"
   ]
  },
  {
   "cell_type": "code",
   "execution_count": 5,
   "metadata": {
    "collapsed": false,
    "deletable": true,
    "editable": true
   },
   "outputs": [
    {
     "name": "stdout",
     "output_type": "stream",
     "text": [
      "ok\n"
     ]
    }
   ],
   "source": [
    "try:\n",
    "    print(reddit.redditor('spesdsdz').id)\n",
    "except prawcore.exceptions.NotFound:\n",
    "    print('ok')"
   ]
  },
  {
   "cell_type": "code",
   "execution_count": 6,
   "metadata": {
    "collapsed": false,
    "deletable": true,
    "editable": true
   },
   "outputs": [],
   "source": [
    "def username_validator(username, db=db):\n",
    "    \n",
    "    usernames_collection = db['valid_usernames']\n",
    "    print(usernames_collection)\n",
    "    \n",
    "    valid = usernames_collection.find_one({'username': username})\n",
    "    pprint(valid)\n",
    "    \n",
    "    if valid is None:\n",
    "        print('Not Found')\n",
    "    else:\n",
    "        print('ok')\n"
   ]
  },
  {
   "cell_type": "code",
   "execution_count": 7,
   "metadata": {
    "collapsed": false,
    "deletable": true,
    "editable": true
   },
   "outputs": [
    {
     "name": "stdout",
     "output_type": "stream",
     "text": [
      "Collection(Database(MongoClient(host=['localhost:27017'], document_class=dict, tz_aware=False, connect=True), 'reddit'), 'valid_usernames')\n",
      "{'_id': ObjectId('58d868522005eca4a1de2c17'), 'times': 1, 'username': 'spez'}\n",
      "ok\n"
     ]
    }
   ],
   "source": [
    "username_validator('spez')"
   ]
  },
  {
   "cell_type": "code",
   "execution_count": null,
   "metadata": {
    "collapsed": true,
    "deletable": true,
    "editable": true
   },
   "outputs": [],
   "source": []
  }
 ],
 "metadata": {
  "kernelspec": {
   "display_name": "Python 3",
   "language": "python",
   "name": "python3"
  },
  "language_info": {
   "codemirror_mode": {
    "name": "ipython",
    "version": 3
   },
   "file_extension": ".py",
   "mimetype": "text/x-python",
   "name": "python",
   "nbconvert_exporter": "python",
   "pygments_lexer": "ipython3",
   "version": "3.6.0"
  }
 },
 "nbformat": 4,
 "nbformat_minor": 2
}
